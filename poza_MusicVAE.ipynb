{
  "nbformat": 4,
  "nbformat_minor": 0,
  "metadata": {
    "colab": {
      "name": "poza-MusicVAE",
      "provenance": [],
      "collapsed_sections": [],
      "authorship_tag": "ABX9TyMTYiFJYTmUhzhg4wURkJQP",
      "include_colab_link": true
    },
    "kernelspec": {
      "name": "python3",
      "display_name": "Python 3"
    },
    "language_info": {
      "name": "python"
    },
    "accelerator": "GPU"
  },
  "cells": [
    {
      "cell_type": "markdown",
      "metadata": {
        "id": "view-in-github",
        "colab_type": "text"
      },
      "source": [
        "<a href=\"https://colab.research.google.com/github/Sunjii/MusicVAE/blob/main/poza_MusicVAE.ipynb\" target=\"_parent\"><img src=\"https://colab.research.google.com/assets/colab-badge.svg\" alt=\"Open In Colab\"/></a>"
      ]
    },
    {
      "cell_type": "code",
      "execution_count": 2,
      "metadata": {
        "id": "3vLkgqzLnONw"
      },
      "outputs": [],
      "source": [
        "import tensorflow.compat.v1 as tf\n",
        "import tensorflow_datasets as tfds\n",
        "\n",
        "# tfds works in both Eager and Graph modes\n",
        "tf.enable_eager_execution()\n",
        "\n",
        "# Load the full GMD with MIDI only (no audio) as a tf.data.Dataset\n",
        "dataset = tfds.load(\n",
        "    name=\"groove/full-midionly\",\n",
        "    split=tfds.Split.TRAIN,\n",
        "    try_gcs=True)\n",
        "\n",
        "# Build your input pipeline\n",
        "dataset = dataset.shuffle(1024).batch(32).prefetch(\n",
        "    tf.data.experimental.AUTOTUNE)\n",
        "for features in dataset.take(1):\n",
        "  # Access the features you are interested in\n",
        "  midi, genre = features[\"midi\"], features[\"style\"][\"primary\"]\n"
      ]
    },
    {
      "cell_type": "code",
      "source": [
        "print(dataset)"
      ],
      "metadata": {
        "colab": {
          "base_uri": "https://localhost:8080/"
        },
        "id": "k9QsgFKsn79n",
        "outputId": "0c970c75-1ce7-4ef2-b89d-9073a9c2305f"
      },
      "execution_count": 3,
      "outputs": [
        {
          "output_type": "stream",
          "name": "stdout",
          "text": [
            "<PrefetchDataset element_spec={'bpm': TensorSpec(shape=(None,), dtype=tf.int32, name=None), 'drummer': TensorSpec(shape=(None,), dtype=tf.int64, name=None), 'id': TensorSpec(shape=(None,), dtype=tf.string, name=None), 'midi': TensorSpec(shape=(None,), dtype=tf.string, name=None), 'style': {'primary': TensorSpec(shape=(None,), dtype=tf.int64, name=None), 'secondary': TensorSpec(shape=(None,), dtype=tf.string, name=None)}, 'time_signature': TensorSpec(shape=(None,), dtype=tf.int64, name=None), 'type': TensorSpec(shape=(None,), dtype=tf.int64, name=None)}>\n"
          ]
        }
      ]
    },
    {
      "cell_type": "code",
      "source": [
        "for features in dataset.take(1):\n",
        "  # Access the features you are interested in\n",
        "  midi, genre = features[\"midi\"], features[\"style\"][\"primary\"]\n",
        "  print(midi, genre)"
      ],
      "metadata": {
        "id": "gOnk-CjEoEy6"
      },
      "execution_count": null,
      "outputs": []
    },
    {
      "cell_type": "markdown",
      "source": [
        "## 과제 상세안내\n",
        "\n",
        "- 해당 과제는 `MusicVAE`를 구현하는 것입니다.\n",
        "\n",
        "그 중에서도 Groove MIDI Dataset을 이용하여 4마디에 해당하는 드럼 샘플을 뽑아내는 과정을 수행하시면 됩니다.\n",
        "\n",
        "- 깃헙 코드: https://github.com/magenta/magenta/tree/master/magenta/models/music_vae\n",
        "\n",
        "- 관련 논문: https://arxiv.org/pdf/1803.05428.pdf\n",
        "\n",
        "- 관련 데이터: https://magenta.tensorflow.org/datasets/groove\n",
        "\n",
        "미디라는 데이터는 음악이 어떻게 연주되어야 하는지 나타내는 악보와 비슷한 개념으로 이해하시면 됩니다. 어느 시점에 어떤 악기를 연주하여야 하는지가 나와있는 데이터이며 .midi의 확장자명을 가지고 있습니다.\n",
        "\n",
        "설명드린 코드에서는 해당 미디를 학습에 이용하기 위하여 벡터로 변환하는 전처리 과정이 필요합니다.\n",
        "\n",
        "이러한 전처리 과정을 거치면 tfrecord형식으로 저장되게 되며 이것을 학습하는 형태입니다.\n",
        "\n",
        "- 과제는 어떠한 방식으로 모델을 다루는지를 보기 위함이며, 과제를 100% 완수하지 못하셔도 됩니다."
      ],
      "metadata": {
        "id": "O7NVA9_8pR6z"
      }
    },
    {
      "cell_type": "markdown",
      "source": [
        ""
      ],
      "metadata": {
        "id": "wwv2UXH0qY_q"
      }
    },
    {
      "cell_type": "markdown",
      "source": [
        "# 사전 지식 탐색 및 정리\n",
        "\n",
        "## VAE\n",
        "- VAE는 latent representation에 효과적인 모델로 입증되었음\n",
        "- AE와 형태면에서 비슷함. Bottleneck 구조를 통해 벡터를 압축하여 latent code를 생성. \n",
        "  - latent space를 통해 입력 데이터간의 유사성과 차이를 통해 학습\n",
        "  - VAE는 AE와는 달리 Generative한 모델임.\n",
        "  - 생성에 강점을 보이는 이유는 latent space가 연속되게 생성되기 때문. 반면 AE는 이산적인 분포를 가지기 때문에 데이터 재구성 단계에서 저품질의 데이터가 생기는 원인이 됨.\n",
        "  - VAE는 KL-divergence를 loss 함수로 사용함\n",
        "- KL-divergence를 통해서 VAE의 latent space 분포가 `표준 정규 분포`에 가깝도록 학습하게 됨\n",
        "\n",
        ">참고링크: https://ratsgo.github.io/generative%20model/2017/12/19/vi/\n",
        "\n",
        "\n",
        "---\n",
        "\n",
        "\n",
        "## VAE 한계점\n",
        "\n",
        "- sequential data에 한계점이 존재함.\n",
        "- recurrent VAE 모델들은 long-term sequence에 약함\n",
        "- 논문에서는 이러한 한계점을 극복하기 위해 `hierachical decoder`를 제안함\n",
        "  - 첫번째 output embedding이 input의 sub-sequence로 쓰임\n",
        "  - 각 embedding들은 독립적으로 sub-sequence들을 생성함\n",
        "- 이러한 구조는 모델이 latent code를 utilize하고 `posterior collapse` 문제를 회피하는데 도움이 됨\n",
        "\n",
        "  - posterior collapse: 시퀀스 모델을 VAE형태로 표현하면 global latent z를 이용하여 다양한 속성의 시퀀스를 생성할 수 있다. 하지만 이 때 decoder가 encoder의 condition을 무시하고 시퀀스를 생성하는 현상을 말함.\n",
        "\n",
        "![](https://img1.daumcdn.net/thumb/R1280x0/?scode=mtistory2&fname=https%3A%2F%2Fblog.kakaocdn.net%2Fdn%2Fqd1lx%2FbtqXMfe0scF%2FYRdkqrZhcInlZ2yPRchOzK%2Fimg.png)\n",
        "\n",
        "  - collapse 발생하는 이유\n",
        "    - decoder가 latent z 없이 과거 데이터만으로 충분히 생성 가능한 경우\n",
        "    - 다양한 latent z가 존재할 수 있음\n",
        "    - VAE가 local information을 선호하는 경향이 있음\n",
        "    - 학습 초기 encoder가 z를 잘 표현하지 못 해서 등등..\n",
        "    - 참고링크: https://stopspoon.tistory.com/63"
      ],
      "metadata": {
        "id": "DGSUTSA-lVWx"
      }
    },
    {
      "cell_type": "markdown",
      "source": [
        "# Model\n",
        "- RNN은 recurrent한 모델이기 때문에 latent code를 무시할 수 있음\n",
        "- 전체 시퀀스를 단일 latent vector로 압축하게 되는데 따라서 long-term 시퀀스인 경우 정보의 손실일 일어날 수 있음\n",
        "- 이 같은 문제를 해결하기 위해 `hierarchical RNN`을 디코더에 적용\n",
        "\n",
        "![](https://i.imgur.com/y397wfb.png)\n",
        "\n",
        "## Bidirectional Encoder\n",
        "- 2 layer 양방향 LSTM 사용\n",
        "- input 시퀀스 x로 첫번째 state vector $ \\overrightarrow{h_{T}} $ 와 $ \\overleftarrow{h_{T}} $ 를 두번째 bi-direction LSTM layer에서 얻는다.\n",
        "- 이는 concat되어 $h_{T}$를 얻고 2개의 fully connectd layer로 들어간다.\n",
        "\n",
        "$$ \\mu = W_{h\\mu}h_{T} + b_{\\mu} $$\n",
        "\n",
        "$$ σ = log(exp(W_{hσ} + b_{σ}) + 1) $$\n",
        "\n",
        "$W_{hμ}, W_{hσ}$는 가중치 행렬이고, $b_μ, b_σ$는 bias 벡터이다. 논문에서는 2048개의 layer와 512의 latent 차원을 사용한다. 일반적인 VAE처럼 뮤와 시그마를 통해서 latent 분포를 표현할 수 있다. 양방향 recurrent encoder는 이상적으로 input 시퀀스의 long-term context를 잘 표현할 수 있다고 함.\n",
        "\n",
        "## Hierarchical Decoder\n",
        "- 단층 RNN을 사용한 경우 -> 매우 떨어지는 샘플링 및 재구성 성능을 보임\n",
        "  - 출력 시퀀스가 생성되면서 latent state의 영향력이 점차 소실되기 때문 (vanishing)\n",
        "- 이러한 문제를 해결하기 위해 계층적 RNN 구조를 디코더에 적용함\n",
        "- input 시퀀스 x를 중복되지 않는 U개의 `sub sequence` $y_u$로 나누게 되면 다음처럼 표현 할 수 있음. 여기서 $i_u$는 endpoint임\n",
        "\n",
        "$$ y_u = \\{ x_{i_u}, x_{i_u+1}, x_{i_u+2}, ..., x_{i_u+1} -1 \\} $$\n",
        "\n",
        "$$ →X = \\{ y_1, y_2, ..., y_U \\} $$\n",
        "\n",
        "- 위 식에서 $i_{U+1} = T$로 정의함. 이후 latent vector z는 fully-connetced layer를 통과하며 tanh 활성 함수를 거쳐 conductor RNN의 초기 state를 생성함.\n",
        "\n",
        "- 논문에서는 Conductor를 위해서 2개층의 양방향 LSTM (hidden state size 1024, 512 output dimension)을 사용함.\n",
        "\n",
        "### Conductor\n",
        "\n",
        "- conductor가 임베딩 벡터 c를 생성하면 각 벡터는 독립적으로 fully-connected layer를 지나면서 tanh 활성함수를 통해 RNN decoder의 최종 바닥층의 초기 state를 생성함.\n",
        "- RNN 디코더는 softmax 출력층을 거치면서 auto-regressive하게 시퀀스 분포를 생성함. 여기서 디코더는 서브시퀀스 $y_{u}$에 해당하는 분포를 생성함.\n",
        "- 디코더의 바닥층에서는 매 step마다 conductor의 임베딩 $c_u$와 이전 step의 출력 토큰을 결합하여 input으로 사용함.\n",
        "  - 이러한 계층적 구조때문에 각 서브시퀀스 $y_u$는 연결된 conductor에서 생성된 $c_u$를 통해서만 영향을 받음\n",
        "- 논문에서는 2 layer LSTM과 각 layer마다 1024 units의 decoder RNN을 사용함.\n",
        "\n",
        "### 결과\n",
        "\n",
        "- 논문에서는 실험을 통해 decoder의 scope를 제한하는 것이 latent code를 사용하는 long-term 구조 모델에 중요하다는 사실을 발견함\n",
        "- 각 서브시퀀스의 끝에서 decoder의 state가 다시 conductor로 들어가는 `auto regressive conductor`에서는 성능이 좋지 않았음.\n",
        "\n",
        "\n",
        "\n"
      ],
      "metadata": {
        "id": "1XfSqa69qb0y"
      }
    },
    {
      "cell_type": "code",
      "source": [
        ""
      ],
      "metadata": {
        "id": "Ra_77WcQlVJQ"
      },
      "execution_count": null,
      "outputs": []
    },
    {
      "cell_type": "markdown",
      "source": [
        "# Experiments\n",
        "\n",
        "## Data and Training\n",
        "\n",
        "MIDI 데이터를 학습에 사용하기 위해서 벡터로 변환하는 전처리 과정이 필요하다.\n",
        "\n",
        "[magenta](https://github.com/magenta/magenta/tree/main/magenta/models/music_vae) 를 이용하여 .mid, .midi 파일을 tfrecord 포멧으로 변환시킬 수 있다. 이후 학습에 사용하면 된다!\n",
        "\n",
        "* tfrecord: 바이너리 데이터 포멧으로 serial 데이터를 읽는데 특화되어 있다. [참고링크](https://bcho.tistory.com/1190)"
      ],
      "metadata": {
        "id": "ObGCN5xZNArV"
      }
    },
    {
      "cell_type": "code",
      "source": [
        "!pip install magenta"
      ],
      "metadata": {
        "id": "cCAjoDznRPAE"
      },
      "execution_count": null,
      "outputs": []
    },
    {
      "cell_type": "code",
      "source": [
        "# 구글 드라이브 연결\n",
        "from google.colab import drive\n",
        "drive.mount('/content/drive/')\n",
        "\n",
        "# data dir\n",
        "DATA_DIR = '/content/drive/MyDrive/musicVAE/data'\n",
        "OUT_DIR = '/content/drive/MyDrive/musicVAE/data_out'"
      ],
      "metadata": {
        "colab": {
          "base_uri": "https://localhost:8080/"
        },
        "id": "1TNYdPpZlVGN",
        "outputId": "244799df-eab0-4ec4-eacc-e27721cf75be"
      },
      "execution_count": 37,
      "outputs": [
        {
          "output_type": "stream",
          "name": "stdout",
          "text": [
            "Drive already mounted at /content/drive/; to attempt to forcibly remount, call drive.mount(\"/content/drive/\", force_remount=True).\n"
          ]
        }
      ]
    },
    {
      "cell_type": "code",
      "source": [
        "!curl https://raw.githubusercontent.com/tensorflow/magenta/main/magenta/tools/magenta-install.sh > /tmp/magenta-install.sh\n",
        "!bash /tmp/magenta-install.sh"
      ],
      "metadata": {
        "id": "EwhOfV3BTS_w"
      },
      "execution_count": null,
      "outputs": []
    },
    {
      "cell_type": "code",
      "source": [
        "from magenta.scripts import convert_dir_to_note_sequences as mg\n",
        "import tensorflow as tf\n",
        "import numpy as np\n",
        "# convert_dir_to_note_sequences"
      ],
      "metadata": {
        "id": "wWCiCaXipcVH"
      },
      "execution_count": 32,
      "outputs": []
    },
    {
      "cell_type": "code",
      "source": [
        "#writer = tf.data.experimental.TFRecordWriter('test.tfrecord')\n",
        "writer = tf.io.TFRecordWriter('test.tfrecord')\n",
        "\n",
        "mg.convert_files(DATA_DIR, OUT_DIR, writer=writer)\n"
      ],
      "metadata": {
        "colab": {
          "base_uri": "https://localhost:8080/"
        },
        "id": "wZfnX6lmUqbk",
        "outputId": "e5f5dbcf-4c16-400d-adca-036ad7ea670b"
      },
      "execution_count": 39,
      "outputs": [
        {
          "output_type": "stream",
          "name": "stdout",
          "text": [
            "INFO:tensorflow:Converting files in '/content/drive/MyDrive/musicVAE/data_out/'.\n"
          ]
        }
      ]
    },
    {
      "cell_type": "code",
      "source": [
        ""
      ],
      "metadata": {
        "id": "AFtV4hRsU2Zm"
      },
      "execution_count": 40,
      "outputs": []
    },
    {
      "cell_type": "code",
      "source": [
        "!convert_dir_to_note_sequences --input_dir='/content/drive/MyDrive/musicVAE/data' --output_file=notesequences.tfrecord --recursive"
      ],
      "metadata": {
        "id": "wUMWbzLshmKm"
      },
      "execution_count": null,
      "outputs": []
    },
    {
      "cell_type": "markdown",
      "source": [
        "생성한 notesequences.tfrecord 파일은 google drive로 백업"
      ],
      "metadata": {
        "id": "7I0UdGoujaPC"
      }
    },
    {
      "cell_type": "code",
      "source": [
        ""
      ],
      "metadata": {
        "id": "y2OruoQdicri"
      },
      "execution_count": 49,
      "outputs": []
    },
    {
      "cell_type": "code",
      "source": [
        "!music_vae_train --config=cat-mel_2bar_small --run_dir=music_vae/ --num_steps=50 --mode=train --examples_path=notesequences.tfrecord"
      ],
      "metadata": {
        "colab": {
          "base_uri": "https://localhost:8080/"
        },
        "id": "17aKG-HSnZbu",
        "outputId": "1cced3c4-38f0-4a64-b21e-2bb134095435"
      },
      "execution_count": 64,
      "outputs": [
        {
          "output_type": "stream",
          "name": "stdout",
          "text": [
            "/usr/local/lib/python3.7/dist-packages/librosa/util/decorators.py:9: NumbaDeprecationWarning: An import was requested from a module that has moved location.\n",
            "Import requested from: 'numba.decorators', please update to use 'numba.core.decorators' or pin to Numba version 0.48.0. This alias will not be present in Numba version 0.50.0.\n",
            "  from numba.decorators import jit as optional_jit\n",
            "/usr/local/lib/python3.7/dist-packages/librosa/util/decorators.py:9: NumbaDeprecationWarning: An import was requested from a module that has moved location.\n",
            "Import of 'jit' requested from: 'numba.decorators', please update to use 'numba.core.decorators' or pin to Numba version 0.48.0. This alias will not be present in Numba version 0.50.0.\n",
            "  from numba.decorators import jit as optional_jit\n",
            "WARNING:tensorflow:From /usr/local/lib/python3.7/dist-packages/tensorflow/python/compat/v2_compat.py:107: disable_resource_variables (from tensorflow.python.ops.variable_scope) is deprecated and will be removed in a future version.\n",
            "Instructions for updating:\n",
            "non-resource variables are not supported in the long term\n",
            "2022-06-06 15:56:08.978618: W tensorflow/core/common_runtime/gpu/gpu_bfc_allocator.cc:39] Overriding allow_growth setting because the TF_FORCE_GPU_ALLOW_GROWTH environment variable is set. Original config value was 0.\n",
            "INFO:tensorflow:Building MusicVAE model with BidirectionalLstmEncoder, CategoricalLstmDecoder, and hparams:\n",
            "{'max_seq_len': 32, 'z_size': 256, 'free_bits': 0, 'max_beta': 0.2, 'beta_rate': 0.99999, 'batch_size': 512, 'grad_clip': 1.0, 'clip_mode': 'global_norm', 'grad_norm_clip_to_zero': 10000, 'learning_rate': 0.001, 'decay_rate': 0.9999, 'min_learning_rate': 1e-05, 'conditional': True, 'dec_rnn_size': [256, 256], 'enc_rnn_size': [512], 'dropout_keep_prob': 1.0, 'sampling_schedule': 'inverse_sigmoid', 'sampling_rate': 1000, 'use_cudnn': False, 'residual_encoder': False, 'residual_decoder': False, 'control_preprocessing_rnn_size': [256]}\n",
            "I0606 15:56:08.993763 139771711883136 base_model.py:152] Building MusicVAE model with BidirectionalLstmEncoder, CategoricalLstmDecoder, and hparams:\n",
            "{'max_seq_len': 32, 'z_size': 256, 'free_bits': 0, 'max_beta': 0.2, 'beta_rate': 0.99999, 'batch_size': 512, 'grad_clip': 1.0, 'clip_mode': 'global_norm', 'grad_norm_clip_to_zero': 10000, 'learning_rate': 0.001, 'decay_rate': 0.9999, 'min_learning_rate': 1e-05, 'conditional': True, 'dec_rnn_size': [256, 256], 'enc_rnn_size': [512], 'dropout_keep_prob': 1.0, 'sampling_schedule': 'inverse_sigmoid', 'sampling_rate': 1000, 'use_cudnn': False, 'residual_encoder': False, 'residual_decoder': False, 'control_preprocessing_rnn_size': [256]}\n",
            "INFO:tensorflow:\n",
            "Encoder Cells (bidirectional):\n",
            "  units: [512]\n",
            "\n",
            "I0606 15:56:08.999063 139771711883136 lstm_models.py:79] \n",
            "Encoder Cells (bidirectional):\n",
            "  units: [512]\n",
            "\n",
            "WARNING:tensorflow:`tf.nn.rnn_cell.MultiRNNCell` is deprecated. This class is equivalent as `tf.keras.layers.StackedRNNCells`, and will be replaced by that in Tensorflow 2.0.\n",
            "W0606 15:56:09.008868 139771711883136 rnn_cell_impl.py:1259] `tf.nn.rnn_cell.MultiRNNCell` is deprecated. This class is equivalent as `tf.keras.layers.StackedRNNCells`, and will be replaced by that in Tensorflow 2.0.\n",
            "WARNING:tensorflow:`tf.nn.rnn_cell.MultiRNNCell` is deprecated. This class is equivalent as `tf.keras.layers.StackedRNNCells`, and will be replaced by that in Tensorflow 2.0.\n",
            "W0606 15:56:09.015879 139771711883136 rnn_cell_impl.py:1259] `tf.nn.rnn_cell.MultiRNNCell` is deprecated. This class is equivalent as `tf.keras.layers.StackedRNNCells`, and will be replaced by that in Tensorflow 2.0.\n",
            "INFO:tensorflow:\n",
            "Decoder Cells:\n",
            "  units: [256, 256]\n",
            "\n",
            "I0606 15:56:09.016229 139771711883136 lstm_models.py:225] \n",
            "Decoder Cells:\n",
            "  units: [256, 256]\n",
            "\n",
            "WARNING:tensorflow:From /usr/local/lib/python3.7/dist-packages/tensorflow/python/util/dispatch.py:1082: to_float (from tensorflow.python.ops.math_ops) is deprecated and will be removed in a future version.\n",
            "Instructions for updating:\n",
            "Use `tf.cast` instead.\n",
            "W0606 15:56:09.016420 139771711883136 deprecation.py:343] From /usr/local/lib/python3.7/dist-packages/tensorflow/python/util/dispatch.py:1082: to_float (from tensorflow.python.ops.math_ops) is deprecated and will be removed in a future version.\n",
            "Instructions for updating:\n",
            "Use `tf.cast` instead.\n",
            "WARNING:tensorflow:`tf.nn.rnn_cell.MultiRNNCell` is deprecated. This class is equivalent as `tf.keras.layers.StackedRNNCells`, and will be replaced by that in Tensorflow 2.0.\n",
            "W0606 15:56:09.034510 139771711883136 rnn_cell_impl.py:1259] `tf.nn.rnn_cell.MultiRNNCell` is deprecated. This class is equivalent as `tf.keras.layers.StackedRNNCells`, and will be replaced by that in Tensorflow 2.0.\n",
            "INFO:tensorflow:Reading examples from file: notesequences.tfrecord\n",
            "I0606 15:56:09.034878 139771711883136 data.py:1812] Reading examples from file: notesequences.tfrecord\n",
            "WARNING:tensorflow:From /usr/local/lib/python3.7/dist-packages/magenta/contrib/rnn.py:474: bidirectional_dynamic_rnn (from tensorflow.python.ops.rnn) is deprecated and will be removed in a future version.\n",
            "Instructions for updating:\n",
            "Please use `keras.layers.Bidirectional(keras.layers.RNN(cell))`, which is equivalent to this API\n",
            "W0606 15:56:09.230129 139771711883136 deprecation.py:343] From /usr/local/lib/python3.7/dist-packages/magenta/contrib/rnn.py:474: bidirectional_dynamic_rnn (from tensorflow.python.ops.rnn) is deprecated and will be removed in a future version.\n",
            "Instructions for updating:\n",
            "Please use `keras.layers.Bidirectional(keras.layers.RNN(cell))`, which is equivalent to this API\n",
            "WARNING:tensorflow:From /usr/local/lib/python3.7/dist-packages/tensorflow/python/ops/rnn.py:446: dynamic_rnn (from tensorflow.python.ops.rnn) is deprecated and will be removed in a future version.\n",
            "Instructions for updating:\n",
            "Please use `keras.layers.RNN(cell)`, which is equivalent to this API\n",
            "W0606 15:56:09.230551 139771711883136 deprecation.py:343] From /usr/local/lib/python3.7/dist-packages/tensorflow/python/ops/rnn.py:446: dynamic_rnn (from tensorflow.python.ops.rnn) is deprecated and will be removed in a future version.\n",
            "Instructions for updating:\n",
            "Please use `keras.layers.RNN(cell)`, which is equivalent to this API\n",
            "/usr/local/lib/python3.7/dist-packages/magenta/contrib/rnn.py:751: UserWarning: `layer.add_variable` is deprecated and will be removed in a future version. Please use `layer.add_weight` method instead.\n",
            "  self._names[\"W\"], [input_size + self._num_units, self._num_units * 4])\n",
            "/usr/local/lib/python3.7/dist-packages/magenta/contrib/rnn.py:754: UserWarning: `layer.add_variable` is deprecated and will be removed in a future version. Please use `layer.add_weight` method instead.\n",
            "  initializer=tf.constant_initializer(0.0))\n",
            "/usr/local/lib/python3.7/dist-packages/magenta/models/music_vae/base_model.py:199: UserWarning: `tf.layers.dense` is deprecated and will be removed in a future version. Please use `tf.keras.layers.Dense` instead.\n",
            "  kernel_initializer=tf.random_normal_initializer(stddev=0.001))\n",
            "/usr/local/lib/python3.7/dist-packages/keras/legacy_tf_layers/core.py:261: UserWarning: `layer.apply` is deprecated and will be removed in a future version. Please use `layer.__call__` method instead.\n",
            "  return layer.apply(inputs)\n",
            "/usr/local/lib/python3.7/dist-packages/magenta/models/music_vae/base_model.py:205: UserWarning: `tf.layers.dense` is deprecated and will be removed in a future version. Please use `tf.keras.layers.Dense` instead.\n",
            "  kernel_initializer=tf.random_normal_initializer(stddev=0.001))\n",
            "WARNING:tensorflow:From /usr/local/lib/python3.7/dist-packages/tensorflow_probability/python/bijectors/affine_linear_operator.py:116: LinearOperator.graph_parents (from tensorflow.python.ops.linalg.linear_operator) is deprecated and will be removed in a future version.\n",
            "Instructions for updating:\n",
            "Do not call `graph_parents`.\n",
            "W0606 15:56:09.577331 139771711883136 deprecation.py:343] From /usr/local/lib/python3.7/dist-packages/tensorflow_probability/python/bijectors/affine_linear_operator.py:116: LinearOperator.graph_parents (from tensorflow.python.ops.linalg.linear_operator) is deprecated and will be removed in a future version.\n",
            "Instructions for updating:\n",
            "Do not call `graph_parents`.\n",
            "/usr/local/lib/python3.7/dist-packages/magenta/models/music_vae/lstm_utils.py:99: UserWarning: `tf.layers.dense` is deprecated and will be removed in a future version. Please use `tf.keras.layers.Dense` instead.\n",
            "  name=name),\n",
            "WARNING:tensorflow:From /usr/local/lib/python3.7/dist-packages/tensorflow/python/util/dispatch.py:1082: softmax_cross_entropy_with_logits (from tensorflow.python.ops.nn_ops) is deprecated and will be removed in a future version.\n",
            "Instructions for updating:\n",
            "\n",
            "Future major versions of TensorFlow will allow gradients to flow\n",
            "into the labels input on backprop by default.\n",
            "\n",
            "See `tf.nn.softmax_cross_entropy_with_logits_v2`.\n",
            "\n",
            "W0606 15:56:09.908051 139771711883136 deprecation.py:343] From /usr/local/lib/python3.7/dist-packages/tensorflow/python/util/dispatch.py:1082: softmax_cross_entropy_with_logits (from tensorflow.python.ops.nn_ops) is deprecated and will be removed in a future version.\n",
            "Instructions for updating:\n",
            "\n",
            "Future major versions of TensorFlow will allow gradients to flow\n",
            "into the labels input on backprop by default.\n",
            "\n",
            "See `tf.nn.softmax_cross_entropy_with_logits_v2`.\n",
            "\n",
            "/usr/local/lib/python3.7/dist-packages/tensorflow/python/framework/indexed_slices.py:446: UserWarning: Converting sparse IndexedSlices(IndexedSlices(indices=Tensor(\"gradients/decoder/while/BasicDecoderStep/ScheduledOutputTrainingHelperNextInputs/cond/GatherNd_1/Switch_grad/cond_grad/Merge_1:0\", shape=(?,), dtype=int32), values=Tensor(\"gradients/decoder/while/BasicDecoderStep/ScheduledOutputTrainingHelperNextInputs/cond/GatherNd_1/Switch_grad/cond_grad/Merge:0\", shape=(?, 346), dtype=float32), dense_shape=Tensor(\"gradients/decoder/while/BasicDecoderStep/ScheduledOutputTrainingHelperNextInputs/cond/GatherNd_1/Switch_grad/cond_grad/Merge_2:0\", shape=(2,), dtype=int32))) to a dense Tensor of unknown shape. This may consume a large amount of memory.\n",
            "  \"shape. This may consume a large amount of memory.\" % value)\n",
            "INFO:tensorflow:Create CheckpointSaverHook.\n",
            "I0606 15:56:16.171804 139771711883136 basic_session_run_hooks.py:558] Create CheckpointSaverHook.\n",
            "WARNING:tensorflow:From /usr/local/lib/python3.7/dist-packages/tensorflow/python/training/training_util.py:397: Variable.initialized_value (from tensorflow.python.ops.variables) is deprecated and will be removed in a future version.\n",
            "Instructions for updating:\n",
            "Use Variable.read_value. Variables in 2.X are initialized automatically both in eager and graph (inside tf.defun) contexts.\n",
            "W0606 15:56:17.257070 139771711883136 deprecation.py:343] From /usr/local/lib/python3.7/dist-packages/tensorflow/python/training/training_util.py:397: Variable.initialized_value (from tensorflow.python.ops.variables) is deprecated and will be removed in a future version.\n",
            "Instructions for updating:\n",
            "Use Variable.read_value. Variables in 2.X are initialized automatically both in eager and graph (inside tf.defun) contexts.\n",
            "INFO:tensorflow:Graph was finalized.\n",
            "I0606 15:56:17.340002 139771711883136 monitored_session.py:243] Graph was finalized.\n",
            "INFO:tensorflow:Restoring parameters from music_vae/train/model.ckpt-0\n",
            "I0606 15:56:17.344118 139771711883136 saver.py:1395] Restoring parameters from music_vae/train/model.ckpt-0\n",
            "WARNING:tensorflow:From /usr/local/lib/python3.7/dist-packages/tensorflow/python/training/saver.py:1161: get_checkpoint_mtimes (from tensorflow.python.training.checkpoint_management) is deprecated and will be removed in a future version.\n",
            "Instructions for updating:\n",
            "Use standard file utilities to get mtimes.\n",
            "W0606 15:56:17.707958 139771711883136 deprecation.py:343] From /usr/local/lib/python3.7/dist-packages/tensorflow/python/training/saver.py:1161: get_checkpoint_mtimes (from tensorflow.python.training.checkpoint_management) is deprecated and will be removed in a future version.\n",
            "Instructions for updating:\n",
            "Use standard file utilities to get mtimes.\n",
            "INFO:tensorflow:Running local_init_op.\n",
            "I0606 15:56:17.799883 139771711883136 session_manager.py:527] Running local_init_op.\n",
            "INFO:tensorflow:Done running local_init_op.\n",
            "I0606 15:56:17.868925 139771711883136 session_manager.py:530] Done running local_init_op.\n",
            "INFO:tensorflow:Calling checkpoint listeners before saving checkpoint 0...\n",
            "I0606 15:56:21.951700 139771711883136 basic_session_run_hooks.py:629] Calling checkpoint listeners before saving checkpoint 0...\n",
            "INFO:tensorflow:Saving checkpoints for 0 into music_vae/train/model.ckpt.\n",
            "I0606 15:56:21.952152 139771711883136 basic_session_run_hooks.py:633] Saving checkpoints for 0 into music_vae/train/model.ckpt.\n",
            "INFO:tensorflow:Calling checkpoint listeners after saving checkpoint 0...\n",
            "I0606 15:56:22.764666 139771711883136 basic_session_run_hooks.py:641] Calling checkpoint listeners after saving checkpoint 0...\n"
          ]
        }
      ]
    },
    {
      "cell_type": "code",
      "source": [
        "!music_vae_generate --config=cat-mel_2bar_big --checkpoint_file=music_vae/train --mode=sample --num_outputs=5 --output_dir=music_vae/generated"
      ],
      "metadata": {
        "colab": {
          "base_uri": "https://localhost:8080/"
        },
        "id": "HDrxBp_VnW9n",
        "outputId": "e85b2fbe-bae7-4c78-95c6-82b15e4b3ec8"
      },
      "execution_count": 65,
      "outputs": [
        {
          "output_type": "stream",
          "name": "stdout",
          "text": [
            "/usr/local/lib/python3.7/dist-packages/librosa/util/decorators.py:9: NumbaDeprecationWarning: An import was requested from a module that has moved location.\n",
            "Import requested from: 'numba.decorators', please update to use 'numba.core.decorators' or pin to Numba version 0.48.0. This alias will not be present in Numba version 0.50.0.\n",
            "  from numba.decorators import jit as optional_jit\n",
            "/usr/local/lib/python3.7/dist-packages/librosa/util/decorators.py:9: NumbaDeprecationWarning: An import was requested from a module that has moved location.\n",
            "Import of 'jit' requested from: 'numba.decorators', please update to use 'numba.core.decorators' or pin to Numba version 0.48.0. This alias will not be present in Numba version 0.50.0.\n",
            "  from numba.decorators import jit as optional_jit\n",
            "WARNING:tensorflow:From /usr/local/lib/python3.7/dist-packages/tensorflow/python/compat/v2_compat.py:107: disable_resource_variables (from tensorflow.python.ops.variable_scope) is deprecated and will be removed in a future version.\n",
            "Instructions for updating:\n",
            "non-resource variables are not supported in the long term\n",
            "INFO:tensorflow:Loading model...\n",
            "I0606 15:57:04.390222 140488541828992 music_vae_generate.py:149] Loading model...\n",
            "INFO:tensorflow:Building MusicVAE model with BidirectionalLstmEncoder, CategoricalLstmDecoder, and hparams:\n",
            "{'max_seq_len': 32, 'z_size': 512, 'free_bits': 0, 'max_beta': 0.5, 'beta_rate': 0.99999, 'batch_size': 5, 'grad_clip': 1.0, 'clip_mode': 'global_norm', 'grad_norm_clip_to_zero': 10000, 'learning_rate': 0.001, 'decay_rate': 0.9999, 'min_learning_rate': 1e-05, 'conditional': True, 'dec_rnn_size': [2048, 2048, 2048], 'enc_rnn_size': [2048], 'dropout_keep_prob': 1.0, 'sampling_schedule': 'inverse_sigmoid', 'sampling_rate': 1000, 'use_cudnn': False, 'residual_encoder': False, 'residual_decoder': False, 'control_preprocessing_rnn_size': [256]}\n",
            "I0606 15:57:04.392186 140488541828992 base_model.py:152] Building MusicVAE model with BidirectionalLstmEncoder, CategoricalLstmDecoder, and hparams:\n",
            "{'max_seq_len': 32, 'z_size': 512, 'free_bits': 0, 'max_beta': 0.5, 'beta_rate': 0.99999, 'batch_size': 5, 'grad_clip': 1.0, 'clip_mode': 'global_norm', 'grad_norm_clip_to_zero': 10000, 'learning_rate': 0.001, 'decay_rate': 0.9999, 'min_learning_rate': 1e-05, 'conditional': True, 'dec_rnn_size': [2048, 2048, 2048], 'enc_rnn_size': [2048], 'dropout_keep_prob': 1.0, 'sampling_schedule': 'inverse_sigmoid', 'sampling_rate': 1000, 'use_cudnn': False, 'residual_encoder': False, 'residual_decoder': False, 'control_preprocessing_rnn_size': [256]}\n",
            "INFO:tensorflow:\n",
            "Encoder Cells (bidirectional):\n",
            "  units: [2048]\n",
            "\n",
            "I0606 15:57:04.396924 140488541828992 lstm_models.py:79] \n",
            "Encoder Cells (bidirectional):\n",
            "  units: [2048]\n",
            "\n",
            "WARNING:tensorflow:`tf.nn.rnn_cell.MultiRNNCell` is deprecated. This class is equivalent as `tf.keras.layers.StackedRNNCells`, and will be replaced by that in Tensorflow 2.0.\n",
            "W0606 15:57:04.406927 140488541828992 rnn_cell_impl.py:1259] `tf.nn.rnn_cell.MultiRNNCell` is deprecated. This class is equivalent as `tf.keras.layers.StackedRNNCells`, and will be replaced by that in Tensorflow 2.0.\n",
            "WARNING:tensorflow:`tf.nn.rnn_cell.MultiRNNCell` is deprecated. This class is equivalent as `tf.keras.layers.StackedRNNCells`, and will be replaced by that in Tensorflow 2.0.\n",
            "W0606 15:57:04.415252 140488541828992 rnn_cell_impl.py:1259] `tf.nn.rnn_cell.MultiRNNCell` is deprecated. This class is equivalent as `tf.keras.layers.StackedRNNCells`, and will be replaced by that in Tensorflow 2.0.\n",
            "INFO:tensorflow:\n",
            "Decoder Cells:\n",
            "  units: [2048, 2048, 2048]\n",
            "\n",
            "I0606 15:57:04.415619 140488541828992 lstm_models.py:225] \n",
            "Decoder Cells:\n",
            "  units: [2048, 2048, 2048]\n",
            "\n",
            "WARNING:tensorflow:Setting non-training sampling schedule from inverse_sigmoid:1000.000000 to constant:1.0.\n",
            "W0606 15:57:04.415754 140488541828992 lstm_utils.py:139] Setting non-training sampling schedule from inverse_sigmoid:1000.000000 to constant:1.0.\n",
            "WARNING:tensorflow:From /usr/local/lib/python3.7/dist-packages/tensorflow/python/util/dispatch.py:1082: to_float (from tensorflow.python.ops.math_ops) is deprecated and will be removed in a future version.\n",
            "Instructions for updating:\n",
            "Use `tf.cast` instead.\n",
            "W0606 15:57:04.415912 140488541828992 deprecation.py:343] From /usr/local/lib/python3.7/dist-packages/tensorflow/python/util/dispatch.py:1082: to_float (from tensorflow.python.ops.math_ops) is deprecated and will be removed in a future version.\n",
            "Instructions for updating:\n",
            "Use `tf.cast` instead.\n",
            "WARNING:tensorflow:`tf.nn.rnn_cell.MultiRNNCell` is deprecated. This class is equivalent as `tf.keras.layers.StackedRNNCells`, and will be replaced by that in Tensorflow 2.0.\n",
            "W0606 15:57:04.437658 140488541828992 rnn_cell_impl.py:1259] `tf.nn.rnn_cell.MultiRNNCell` is deprecated. This class is equivalent as `tf.keras.layers.StackedRNNCells`, and will be replaced by that in Tensorflow 2.0.\n",
            "/usr/local/lib/python3.7/dist-packages/magenta/models/music_vae/lstm_utils.py:99: UserWarning: `tf.layers.dense` is deprecated and will be removed in a future version. Please use `tf.keras.layers.Dense` instead.\n",
            "  name=name),\n",
            "/usr/local/lib/python3.7/dist-packages/keras/legacy_tf_layers/core.py:261: UserWarning: `layer.apply` is deprecated and will be removed in a future version. Please use `layer.__call__` method instead.\n",
            "  return layer.apply(inputs)\n",
            "/usr/local/lib/python3.7/dist-packages/magenta/contrib/rnn.py:751: UserWarning: `layer.add_variable` is deprecated and will be removed in a future version. Please use `layer.add_weight` method instead.\n",
            "  self._names[\"W\"], [input_size + self._num_units, self._num_units * 4])\n",
            "/usr/local/lib/python3.7/dist-packages/magenta/contrib/rnn.py:754: UserWarning: `layer.add_variable` is deprecated and will be removed in a future version. Please use `layer.add_weight` method instead.\n",
            "  initializer=tf.constant_initializer(0.0))\n",
            "WARNING:tensorflow:From /usr/local/lib/python3.7/dist-packages/magenta/contrib/rnn.py:474: bidirectional_dynamic_rnn (from tensorflow.python.ops.rnn) is deprecated and will be removed in a future version.\n",
            "Instructions for updating:\n",
            "Please use `keras.layers.Bidirectional(keras.layers.RNN(cell))`, which is equivalent to this API\n",
            "W0606 15:57:04.830872 140488541828992 deprecation.py:343] From /usr/local/lib/python3.7/dist-packages/magenta/contrib/rnn.py:474: bidirectional_dynamic_rnn (from tensorflow.python.ops.rnn) is deprecated and will be removed in a future version.\n",
            "Instructions for updating:\n",
            "Please use `keras.layers.Bidirectional(keras.layers.RNN(cell))`, which is equivalent to this API\n",
            "WARNING:tensorflow:From /usr/local/lib/python3.7/dist-packages/tensorflow/python/ops/rnn.py:446: dynamic_rnn (from tensorflow.python.ops.rnn) is deprecated and will be removed in a future version.\n",
            "Instructions for updating:\n",
            "Please use `keras.layers.RNN(cell)`, which is equivalent to this API\n",
            "W0606 15:57:04.831253 140488541828992 deprecation.py:343] From /usr/local/lib/python3.7/dist-packages/tensorflow/python/ops/rnn.py:446: dynamic_rnn (from tensorflow.python.ops.rnn) is deprecated and will be removed in a future version.\n",
            "Instructions for updating:\n",
            "Please use `keras.layers.RNN(cell)`, which is equivalent to this API\n",
            "/usr/local/lib/python3.7/dist-packages/magenta/models/music_vae/base_model.py:199: UserWarning: `tf.layers.dense` is deprecated and will be removed in a future version. Please use `tf.keras.layers.Dense` instead.\n",
            "  kernel_initializer=tf.random_normal_initializer(stddev=0.001))\n",
            "/usr/local/lib/python3.7/dist-packages/magenta/models/music_vae/base_model.py:205: UserWarning: `tf.layers.dense` is deprecated and will be removed in a future version. Please use `tf.keras.layers.Dense` instead.\n",
            "  kernel_initializer=tf.random_normal_initializer(stddev=0.001))\n",
            "WARNING:tensorflow:From /usr/local/lib/python3.7/dist-packages/tensorflow_probability/python/bijectors/affine_linear_operator.py:116: LinearOperator.graph_parents (from tensorflow.python.ops.linalg.linear_operator) is deprecated and will be removed in a future version.\n",
            "Instructions for updating:\n",
            "Do not call `graph_parents`.\n",
            "W0606 15:57:05.015003 140488541828992 deprecation.py:343] From /usr/local/lib/python3.7/dist-packages/tensorflow_probability/python/bijectors/affine_linear_operator.py:116: LinearOperator.graph_parents (from tensorflow.python.ops.linalg.linear_operator) is deprecated and will be removed in a future version.\n",
            "Instructions for updating:\n",
            "Do not call `graph_parents`.\n",
            "2022-06-06 15:57:05.750884: W tensorflow/core/common_runtime/gpu/gpu_bfc_allocator.cc:39] Overriding allow_growth setting because the TF_FORCE_GPU_ALLOW_GROWTH environment variable is set. Original config value was 0.\n",
            "INFO:tensorflow:Restoring parameters from music_vae/train/model.ckpt-0\n",
            "I0606 15:57:05.766902 140488541828992 saver.py:1395] Restoring parameters from music_vae/train/model.ckpt-0\n",
            "2022-06-06 15:57:05.806428: W tensorflow/core/framework/op_kernel.cc:1745] OP_REQUIRES failed at save_restore_v2_ops.cc:222 : NOT_FOUND: Key decoder/multi_rnn_cell/cell_2/lstm_cell/bias not found in checkpoint\n",
            "Traceback (most recent call last):\n",
            "  File \"/usr/local/lib/python3.7/dist-packages/tensorflow/python/client/session.py\", line 1377, in _do_call\n",
            "    return fn(*args)\n",
            "  File \"/usr/local/lib/python3.7/dist-packages/tensorflow/python/client/session.py\", line 1361, in _run_fn\n",
            "    target_list, run_metadata)\n",
            "  File \"/usr/local/lib/python3.7/dist-packages/tensorflow/python/client/session.py\", line 1455, in _call_tf_sessionrun\n",
            "    run_metadata)\n",
            "tensorflow.python.framework.errors_impl.NotFoundError: 2 root error(s) found.\n",
            "  (0) NOT_FOUND: Key decoder/multi_rnn_cell/cell_2/lstm_cell/bias not found in checkpoint\n",
            "\t [[{{node save/RestoreV2}}]]\n",
            "\t [[save/RestoreV2/_11]]\n",
            "  (1) NOT_FOUND: Key decoder/multi_rnn_cell/cell_2/lstm_cell/bias not found in checkpoint\n",
            "\t [[{{node save/RestoreV2}}]]\n",
            "0 successful operations.\n",
            "0 derived errors ignored.\n",
            "\n",
            "During handling of the above exception, another exception occurred:\n",
            "\n",
            "Traceback (most recent call last):\n",
            "  File \"/usr/local/lib/python3.7/dist-packages/tensorflow/python/training/saver.py\", line 1401, in restore\n",
            "    {self.saver_def.filename_tensor_name: save_path})\n",
            "  File \"/usr/local/lib/python3.7/dist-packages/tensorflow/python/client/session.py\", line 968, in run\n",
            "    run_metadata_ptr)\n",
            "  File \"/usr/local/lib/python3.7/dist-packages/tensorflow/python/client/session.py\", line 1191, in _run\n",
            "    feed_dict_tensor, options, run_metadata)\n",
            "  File \"/usr/local/lib/python3.7/dist-packages/tensorflow/python/client/session.py\", line 1371, in _do_run\n",
            "    run_metadata)\n",
            "  File \"/usr/local/lib/python3.7/dist-packages/tensorflow/python/client/session.py\", line 1396, in _do_call\n",
            "    raise type(e)(node_def, op, message)  # pylint: disable=no-value-for-parameter\n",
            "tensorflow.python.framework.errors_impl.NotFoundError: Graph execution error:\n",
            "\n",
            "Detected at node 'save/RestoreV2' defined at (most recent call last):\n",
            "    File \"/usr/local/bin/music_vae_generate\", line 8, in <module>\n",
            "      sys.exit(console_entry_point())\n",
            "    File \"/usr/local/lib/python3.7/dist-packages/magenta/models/music_vae/music_vae_generate.py\", line 193, in console_entry_point\n",
            "      tf.app.run(main)\n",
            "    File \"/usr/local/lib/python3.7/dist-packages/absl/app.py\", line 312, in run\n",
            "      _run_main(main, args)\n",
            "    File \"/usr/local/lib/python3.7/dist-packages/absl/app.py\", line 258, in _run_main\n",
            "      sys.exit(main(argv))\n",
            "    File \"/usr/local/lib/python3.7/dist-packages/magenta/models/music_vae/music_vae_generate.py\", line 188, in main\n",
            "      run(configs.CONFIG_MAP)\n",
            "    File \"/usr/local/lib/python3.7/dist-packages/magenta/models/music_vae/music_vae_generate.py\", line 157, in run\n",
            "      checkpoint_dir_or_path=checkpoint_dir_or_path)\n",
            "    File \"/usr/local/lib/python3.7/dist-packages/magenta/models/music_vae/trained_model.py\", line 120, in __init__\n",
            "      saver = tf.train.Saver(var_map)\n",
            "Node: 'save/RestoreV2'\n",
            "Detected at node 'save/RestoreV2' defined at (most recent call last):\n",
            "    File \"/usr/local/bin/music_vae_generate\", line 8, in <module>\n",
            "      sys.exit(console_entry_point())\n",
            "    File \"/usr/local/lib/python3.7/dist-packages/magenta/models/music_vae/music_vae_generate.py\", line 193, in console_entry_point\n",
            "      tf.app.run(main)\n",
            "    File \"/usr/local/lib/python3.7/dist-packages/absl/app.py\", line 312, in run\n",
            "      _run_main(main, args)\n",
            "    File \"/usr/local/lib/python3.7/dist-packages/absl/app.py\", line 258, in _run_main\n",
            "      sys.exit(main(argv))\n",
            "    File \"/usr/local/lib/python3.7/dist-packages/magenta/models/music_vae/music_vae_generate.py\", line 188, in main\n",
            "      run(configs.CONFIG_MAP)\n",
            "    File \"/usr/local/lib/python3.7/dist-packages/magenta/models/music_vae/music_vae_generate.py\", line 157, in run\n",
            "      checkpoint_dir_or_path=checkpoint_dir_or_path)\n",
            "    File \"/usr/local/lib/python3.7/dist-packages/magenta/models/music_vae/trained_model.py\", line 120, in __init__\n",
            "      saver = tf.train.Saver(var_map)\n",
            "Node: 'save/RestoreV2'\n",
            "2 root error(s) found.\n",
            "  (0) NOT_FOUND: Key decoder/multi_rnn_cell/cell_2/lstm_cell/bias not found in checkpoint\n",
            "\t [[{{node save/RestoreV2}}]]\n",
            "\t [[save/RestoreV2/_11]]\n",
            "  (1) NOT_FOUND: Key decoder/multi_rnn_cell/cell_2/lstm_cell/bias not found in checkpoint\n",
            "\t [[{{node save/RestoreV2}}]]\n",
            "0 successful operations.\n",
            "0 derived errors ignored.\n",
            "\n",
            "Original stack trace for 'save/RestoreV2':\n",
            "  File \"/usr/local/bin/music_vae_generate\", line 8, in <module>\n",
            "    sys.exit(console_entry_point())\n",
            "  File \"/usr/local/lib/python3.7/dist-packages/magenta/models/music_vae/music_vae_generate.py\", line 193, in console_entry_point\n",
            "    tf.app.run(main)\n",
            "  File \"/usr/local/lib/python3.7/dist-packages/tensorflow/python/platform/app.py\", line 36, in run\n",
            "    _run(main=main, argv=argv, flags_parser=_parse_flags_tolerate_undef)\n",
            "  File \"/usr/local/lib/python3.7/dist-packages/absl/app.py\", line 312, in run\n",
            "    _run_main(main, args)\n",
            "  File \"/usr/local/lib/python3.7/dist-packages/absl/app.py\", line 258, in _run_main\n",
            "    sys.exit(main(argv))\n",
            "  File \"/usr/local/lib/python3.7/dist-packages/magenta/models/music_vae/music_vae_generate.py\", line 188, in main\n",
            "    run(configs.CONFIG_MAP)\n",
            "  File \"/usr/local/lib/python3.7/dist-packages/magenta/models/music_vae/music_vae_generate.py\", line 157, in run\n",
            "    checkpoint_dir_or_path=checkpoint_dir_or_path)\n",
            "  File \"/usr/local/lib/python3.7/dist-packages/magenta/models/music_vae/trained_model.py\", line 120, in __init__\n",
            "    saver = tf.train.Saver(var_map)\n",
            "  File \"/usr/local/lib/python3.7/dist-packages/tensorflow/python/training/saver.py\", line 919, in __init__\n",
            "    self.build()\n",
            "  File \"/usr/local/lib/python3.7/dist-packages/tensorflow/python/training/saver.py\", line 931, in build\n",
            "    self._build(self._filename, build_save=True, build_restore=True)\n",
            "  File \"/usr/local/lib/python3.7/dist-packages/tensorflow/python/training/saver.py\", line 969, in _build\n",
            "    build_restore=build_restore)\n",
            "  File \"/usr/local/lib/python3.7/dist-packages/tensorflow/python/training/saver.py\", line 530, in _build_internal\n",
            "    restore_sequentially, reshape)\n",
            "  File \"/usr/local/lib/python3.7/dist-packages/tensorflow/python/training/saver.py\", line 350, in _AddRestoreOps\n",
            "    restore_sequentially)\n",
            "  File \"/usr/local/lib/python3.7/dist-packages/tensorflow/python/training/saver.py\", line 597, in bulk_restore\n",
            "    return io_ops.restore_v2(filename_tensor, names, slices, dtypes)\n",
            "  File \"/usr/local/lib/python3.7/dist-packages/tensorflow/python/ops/gen_io_ops.py\", line 1504, in restore_v2\n",
            "    name=name)\n",
            "  File \"/usr/local/lib/python3.7/dist-packages/tensorflow/python/framework/op_def_library.py\", line 742, in _apply_op_helper\n",
            "    attrs=attr_protos, op_def=op_def)\n",
            "  File \"/usr/local/lib/python3.7/dist-packages/tensorflow/python/framework/ops.py\", line 3784, in _create_op_internal\n",
            "    op_def=op_def)\n",
            "  File \"/usr/local/lib/python3.7/dist-packages/tensorflow/python/framework/ops.py\", line 2175, in __init__\n",
            "    self._traceback = tf_stack.extract_stack_for_node(self._c_op)\n",
            "\n",
            "\n",
            "During handling of the above exception, another exception occurred:\n",
            "\n",
            "Traceback (most recent call last):\n",
            "  File \"/usr/local/lib/python3.7/dist-packages/tensorflow/python/training/py_checkpoint_reader.py\", line 67, in get_tensor\n",
            "    self, compat.as_bytes(tensor_str))\n",
            "RuntimeError: Key _CHECKPOINTABLE_OBJECT_GRAPH not found in checkpoint\n",
            "\n",
            "During handling of the above exception, another exception occurred:\n",
            "\n",
            "Traceback (most recent call last):\n",
            "  File \"/usr/local/lib/python3.7/dist-packages/tensorflow/python/training/saver.py\", line 1411, in restore\n",
            "    names_to_keys = object_graph_key_mapping(save_path)\n",
            "  File \"/usr/local/lib/python3.7/dist-packages/tensorflow/python/training/saver.py\", line 1732, in object_graph_key_mapping\n",
            "    object_graph_string = reader.get_tensor(trackable.OBJECT_GRAPH_PROTO_KEY)\n",
            "  File \"/usr/local/lib/python3.7/dist-packages/tensorflow/python/training/py_checkpoint_reader.py\", line 71, in get_tensor\n",
            "    error_translator(e)\n",
            "  File \"/usr/local/lib/python3.7/dist-packages/tensorflow/python/training/py_checkpoint_reader.py\", line 31, in error_translator\n",
            "    raise errors_impl.NotFoundError(None, None, error_message)\n",
            "tensorflow.python.framework.errors_impl.NotFoundError: Key _CHECKPOINTABLE_OBJECT_GRAPH not found in checkpoint\n",
            "\n",
            "During handling of the above exception, another exception occurred:\n",
            "\n",
            "Traceback (most recent call last):\n",
            "  File \"/usr/local/bin/music_vae_generate\", line 8, in <module>\n",
            "    sys.exit(console_entry_point())\n",
            "  File \"/usr/local/lib/python3.7/dist-packages/magenta/models/music_vae/music_vae_generate.py\", line 193, in console_entry_point\n",
            "    tf.app.run(main)\n",
            "  File \"/usr/local/lib/python3.7/dist-packages/tensorflow/python/platform/app.py\", line 36, in run\n",
            "    _run(main=main, argv=argv, flags_parser=_parse_flags_tolerate_undef)\n",
            "  File \"/usr/local/lib/python3.7/dist-packages/absl/app.py\", line 312, in run\n",
            "    _run_main(main, args)\n",
            "  File \"/usr/local/lib/python3.7/dist-packages/absl/app.py\", line 258, in _run_main\n",
            "    sys.exit(main(argv))\n",
            "  File \"/usr/local/lib/python3.7/dist-packages/magenta/models/music_vae/music_vae_generate.py\", line 188, in main\n",
            "    run(configs.CONFIG_MAP)\n",
            "  File \"/usr/local/lib/python3.7/dist-packages/magenta/models/music_vae/music_vae_generate.py\", line 157, in run\n",
            "    checkpoint_dir_or_path=checkpoint_dir_or_path)\n",
            "  File \"/usr/local/lib/python3.7/dist-packages/magenta/models/music_vae/trained_model.py\", line 134, in __init__\n",
            "    saver.restore(self._sess, checkpoint_path)\n",
            "  File \"/usr/local/lib/python3.7/dist-packages/tensorflow/python/training/saver.py\", line 1417, in restore\n",
            "    err, \"a Variable name or other graph key that is missing\")\n",
            "tensorflow.python.framework.errors_impl.NotFoundError: Restoring from checkpoint failed. This is most likely due to a Variable name or other graph key that is missing from the checkpoint. Please ensure that you have not altered the graph expected based on the checkpoint. Original error:\n",
            "\n",
            "Graph execution error:\n",
            "\n",
            "Detected at node 'save/RestoreV2' defined at (most recent call last):\n",
            "    File \"/usr/local/bin/music_vae_generate\", line 8, in <module>\n",
            "      sys.exit(console_entry_point())\n",
            "    File \"/usr/local/lib/python3.7/dist-packages/magenta/models/music_vae/music_vae_generate.py\", line 193, in console_entry_point\n",
            "      tf.app.run(main)\n",
            "    File \"/usr/local/lib/python3.7/dist-packages/absl/app.py\", line 312, in run\n",
            "      _run_main(main, args)\n",
            "    File \"/usr/local/lib/python3.7/dist-packages/absl/app.py\", line 258, in _run_main\n",
            "      sys.exit(main(argv))\n",
            "    File \"/usr/local/lib/python3.7/dist-packages/magenta/models/music_vae/music_vae_generate.py\", line 188, in main\n",
            "      run(configs.CONFIG_MAP)\n",
            "    File \"/usr/local/lib/python3.7/dist-packages/magenta/models/music_vae/music_vae_generate.py\", line 157, in run\n",
            "      checkpoint_dir_or_path=checkpoint_dir_or_path)\n",
            "    File \"/usr/local/lib/python3.7/dist-packages/magenta/models/music_vae/trained_model.py\", line 120, in __init__\n",
            "      saver = tf.train.Saver(var_map)\n",
            "Node: 'save/RestoreV2'\n",
            "Detected at node 'save/RestoreV2' defined at (most recent call last):\n",
            "    File \"/usr/local/bin/music_vae_generate\", line 8, in <module>\n",
            "      sys.exit(console_entry_point())\n",
            "    File \"/usr/local/lib/python3.7/dist-packages/magenta/models/music_vae/music_vae_generate.py\", line 193, in console_entry_point\n",
            "      tf.app.run(main)\n",
            "    File \"/usr/local/lib/python3.7/dist-packages/absl/app.py\", line 312, in run\n",
            "      _run_main(main, args)\n",
            "    File \"/usr/local/lib/python3.7/dist-packages/absl/app.py\", line 258, in _run_main\n",
            "      sys.exit(main(argv))\n",
            "    File \"/usr/local/lib/python3.7/dist-packages/magenta/models/music_vae/music_vae_generate.py\", line 188, in main\n",
            "      run(configs.CONFIG_MAP)\n",
            "    File \"/usr/local/lib/python3.7/dist-packages/magenta/models/music_vae/music_vae_generate.py\", line 157, in run\n",
            "      checkpoint_dir_or_path=checkpoint_dir_or_path)\n",
            "    File \"/usr/local/lib/python3.7/dist-packages/magenta/models/music_vae/trained_model.py\", line 120, in __init__\n",
            "      saver = tf.train.Saver(var_map)\n",
            "Node: 'save/RestoreV2'\n",
            "2 root error(s) found.\n",
            "  (0) NOT_FOUND: Key decoder/multi_rnn_cell/cell_2/lstm_cell/bias not found in checkpoint\n",
            "\t [[{{node save/RestoreV2}}]]\n",
            "\t [[save/RestoreV2/_11]]\n",
            "  (1) NOT_FOUND: Key decoder/multi_rnn_cell/cell_2/lstm_cell/bias not found in checkpoint\n",
            "\t [[{{node save/RestoreV2}}]]\n",
            "0 successful operations.\n",
            "0 derived errors ignored.\n",
            "\n",
            "Original stack trace for 'save/RestoreV2':\n",
            "  File \"/usr/local/bin/music_vae_generate\", line 8, in <module>\n",
            "    sys.exit(console_entry_point())\n",
            "  File \"/usr/local/lib/python3.7/dist-packages/magenta/models/music_vae/music_vae_generate.py\", line 193, in console_entry_point\n",
            "    tf.app.run(main)\n",
            "  File \"/usr/local/lib/python3.7/dist-packages/tensorflow/python/platform/app.py\", line 36, in run\n",
            "    _run(main=main, argv=argv, flags_parser=_parse_flags_tolerate_undef)\n",
            "  File \"/usr/local/lib/python3.7/dist-packages/absl/app.py\", line 312, in run\n",
            "    _run_main(main, args)\n",
            "  File \"/usr/local/lib/python3.7/dist-packages/absl/app.py\", line 258, in _run_main\n",
            "    sys.exit(main(argv))\n",
            "  File \"/usr/local/lib/python3.7/dist-packages/magenta/models/music_vae/music_vae_generate.py\", line 188, in main\n",
            "    run(configs.CONFIG_MAP)\n",
            "  File \"/usr/local/lib/python3.7/dist-packages/magenta/models/music_vae/music_vae_generate.py\", line 157, in run\n",
            "    checkpoint_dir_or_path=checkpoint_dir_or_path)\n",
            "  File \"/usr/local/lib/python3.7/dist-packages/magenta/models/music_vae/trained_model.py\", line 120, in __init__\n",
            "    saver = tf.train.Saver(var_map)\n",
            "  File \"/usr/local/lib/python3.7/dist-packages/tensorflow/python/training/saver.py\", line 919, in __init__\n",
            "    self.build()\n",
            "  File \"/usr/local/lib/python3.7/dist-packages/tensorflow/python/training/saver.py\", line 931, in build\n",
            "    self._build(self._filename, build_save=True, build_restore=True)\n",
            "  File \"/usr/local/lib/python3.7/dist-packages/tensorflow/python/training/saver.py\", line 969, in _build\n",
            "    build_restore=build_restore)\n",
            "  File \"/usr/local/lib/python3.7/dist-packages/tensorflow/python/training/saver.py\", line 530, in _build_internal\n",
            "    restore_sequentially, reshape)\n",
            "  File \"/usr/local/lib/python3.7/dist-packages/tensorflow/python/training/saver.py\", line 350, in _AddRestoreOps\n",
            "    restore_sequentially)\n",
            "  File \"/usr/local/lib/python3.7/dist-packages/tensorflow/python/training/saver.py\", line 597, in bulk_restore\n",
            "    return io_ops.restore_v2(filename_tensor, names, slices, dtypes)\n",
            "  File \"/usr/local/lib/python3.7/dist-packages/tensorflow/python/ops/gen_io_ops.py\", line 1504, in restore_v2\n",
            "    name=name)\n",
            "  File \"/usr/local/lib/python3.7/dist-packages/tensorflow/python/framework/op_def_library.py\", line 742, in _apply_op_helper\n",
            "    attrs=attr_protos, op_def=op_def)\n",
            "  File \"/usr/local/lib/python3.7/dist-packages/tensorflow/python/framework/ops.py\", line 3784, in _create_op_internal\n",
            "    op_def=op_def)\n",
            "  File \"/usr/local/lib/python3.7/dist-packages/tensorflow/python/framework/ops.py\", line 2175, in __init__\n",
            "    self._traceback = tf_stack.extract_stack_for_node(self._c_op)\n",
            "\n"
          ]
        }
      ]
    },
    {
      "cell_type": "code",
      "source": [
        ""
      ],
      "metadata": {
        "id": "a2IAiB2MpXhv"
      },
      "execution_count": null,
      "outputs": []
    },
    {
      "cell_type": "code",
      "source": [
        ""
      ],
      "metadata": {
        "id": "tGtEtM1rpX4m"
      },
      "execution_count": null,
      "outputs": []
    }
  ]
}